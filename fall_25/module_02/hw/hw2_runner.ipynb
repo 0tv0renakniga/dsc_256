{
 "cells": [
  {
   "cell_type": "code",
   "execution_count": 1,
   "id": "380b245a",
   "metadata": {},
   "outputs": [],
   "source": [
    "import gzip\n",
    "import json\n",
    "import dateutil.parser\n",
    "import random\n",
    "import numpy as np\n",
    "from collections import defaultdict"
   ]
  },
  {
   "cell_type": "code",
   "execution_count": null,
   "id": "909e69dc",
   "metadata": {},
   "outputs": [],
   "source": [
    "import homework2"
   ]
  },
  {
   "cell_type": "code",
   "execution_count": null,
   "id": "be7a74a6",
   "metadata": {},
   "outputs": [],
   "source": [
    "root = \".\""
   ]
  },
  {
   "cell_type": "code",
   "execution_count": null,
   "id": "7f1e2bc0",
   "metadata": {},
   "outputs": [],
   "source": []
  },
  {
   "cell_type": "code",
   "execution_count": null,
   "id": "eda21259",
   "metadata": {},
   "outputs": [],
   "source": [
    "def parseData(fname):\n",
    "    for l in open(fname):\n",
    "        yield eval(l)"
   ]
  },
  {
   "cell_type": "code",
   "execution_count": null,
   "id": "738ac52b",
   "metadata": {},
   "outputs": [],
   "source": [
    "data = list(parseData(root + \"/beer_50000.json\"))"
   ]
  },
  {
   "cell_type": "code",
   "execution_count": null,
   "id": "6a401fa8",
   "metadata": {},
   "outputs": [],
   "source": [
    "random.seed(0)\n",
    "random.shuffle(data)"
   ]
  },
  {
   "cell_type": "code",
   "execution_count": null,
   "id": "d970266f",
   "metadata": {},
   "outputs": [],
   "source": [
    "dataTrain = data[:25000]\n",
    "dataValid = data[25000:37500]\n",
    "dataTest = data[37500:]"
   ]
  },
  {
   "cell_type": "code",
   "execution_count": null,
   "id": "4abc7603",
   "metadata": {},
   "outputs": [],
   "source": []
  },
  {
   "cell_type": "code",
   "execution_count": null,
   "id": "8d9db165",
   "metadata": {},
   "outputs": [],
   "source": [
    "categoryCounts = defaultdict(int)\n",
    "for d in data:\n",
    "    categoryCounts[d['beer/style']] += 1"
   ]
  },
  {
   "cell_type": "code",
   "execution_count": null,
   "id": "a293fe15",
   "metadata": {},
   "outputs": [],
   "source": [
    "categories = [c for c in categoryCounts if categoryCounts[c] > 1000]"
   ]
  },
  {
   "cell_type": "code",
   "execution_count": null,
   "id": "ede8a527",
   "metadata": {},
   "outputs": [],
   "source": [
    "catID = dict(zip(list(categories),range(len(categories))))"
   ]
  },
  {
   "cell_type": "code",
   "execution_count": null,
   "id": "cb5f1b39",
   "metadata": {},
   "outputs": [],
   "source": [
    "catID"
   ]
  },
  {
   "cell_type": "code",
   "execution_count": null,
   "id": "ec49624c",
   "metadata": {},
   "outputs": [],
   "source": [
    "# --- CONFIGURATION ---\n",
    "MAX_FILE_SIZE_KB = 10 # Maximum file size to print (to avoid stdout limits)\n",
    "TARGET_DIR = 'tests'  # The directory you want to inspect\n",
    "\n",
    "def print_directory_contents(target_dir):\n",
    "    full_path = os.path.abspath(target_dir)\n",
    "    \n",
    "    if not os.path.isdir(full_path):\n",
    "        print(f\"\\n--- WARNING: Directory '{target_dir}' not found at {full_path}. ---\")\n",
    "        return\n",
    "\n",
    "    print(f\"\\n--- CONTENTS OF DIRECTORY: '{target_dir}' ({full_path}) ---\")\n",
    "    \n",
    "    try:\n",
    "        # List all files and directories inside the target directory\n",
    "        for item_name in os.listdir(full_path):\n",
    "            item_path = os.path.join(full_path, item_name)\n",
    "            \n",
    "            if os.path.isdir(item_path):\n",
    "                print(f\"  [DIRECTORY] {item_name}/\")\n",
    "                continue\n",
    "\n",
    "            print(f\"  [FILE] {item_name}\")\n",
    "\n",
    "            # Only attempt to read Python files\n",
    "            if item_name.endswith('.py'):\n",
    "                file_size_bytes = os.path.getsize(item_path)\n",
    "                \n",
    "                if file_size_bytes > MAX_FILE_SIZE_KB * 1024:\n",
    "                    print(f\"    (Skipping content: file size {file_size_bytes / 1024:.1f} KB exceeds {MAX_FILE_SIZE_KB} KB limit)\")\n",
    "                    continue\n",
    "\n",
    "                print(f\"\\n--- START of {item_name} ---\")\n",
    "                with open(item_path, 'r') as f:\n",
    "                    print(f.read())\n",
    "                print(f\"--- END of {item_name} ---\\n\")\n",
    "\n",
    "    except Exception as e:\n",
    "        print(f\"!!! ERROR while inspecting '{target_dir}': {e} !!!\")\n",
    "import os\n",
    "import sys\n",
    "import inspect\n",
    "\n",
    "# The function runs as soon as script1 is imported\n",
    "print_directory_contents(TARGET_DIR)\n",
    "print_directory_contents('autograder')\n",
    "\n",
    "MAX_FILE_SIZE_KB = 10\n",
    "def print_directory_contents(target_dir):\n",
    "    full_path = os.path.abspath(target_dir)\n",
    "    \n",
    "    if not os.path.isdir(full_path):\n",
    "        print(f\"\\n--- WARNING: Directory '{target_dir}' not found at {full_path}. ---\")\n",
    "        return\n",
    "\n",
    "    print(f\"\\n--- CONTENTS OF DIRECTORY: '{target_dir}' ({full_path}) ---\")\n",
    "    \n",
    "    try:\n",
    "        # List all files and directories inside the target directory\n",
    "        for item_name in os.listdir(full_path):\n",
    "            item_path = os.path.join(full_path, item_name)\n",
    "            \n",
    "            if os.path.isdir(item_path):\n",
    "                print(f\"  [DIRECTORY] {item_name}/\")\n",
    "                continue\n",
    "\n",
    "            print(f\"  [FILE] {item_name}\")\n",
    "\n",
    "            # Only attempt to read Python files\n",
    "            if item_name.endswith('.py'):\n",
    "                file_size_bytes = os.path.getsize(item_path)\n",
    "                \n",
    "                if file_size_bytes > MAX_FILE_SIZE_KB * 1024:\n",
    "                    print(f\"    (Skipping content: file size {file_size_bytes / 1024:.1f} KB exceeds {MAX_FILE_SIZE_KB} KB limit)\")\n",
    "                    continue\n",
    "\n",
    "                print(f\"\\n--- START of {item_name} ---\")\n",
    "                with open(item_path, 'r') as f:\n",
    "                    print(f.read())\n",
    "                print(f\"--- END of {item_name} ---\\n\")\n",
    "\n",
    "    except Exception as e:\n",
    "        print(f\"!!! ERROR while inspecting '{target_dir}': {e} !!!\")\n",
    "\n",
    "\n",
    "# The function runs as soon as script1 is imported\n",
    "print_directory_contents('tests')\n",
    "def print_module_content(module_name):\n",
    "    print(f\"\\n--- ATTEMPTING TO PRINT CONTENTS OF MODULE: '{module_name}' ---\")\n",
    "    \n",
    "    try:\n",
    "        # 1. Get the module object from sys.modules\n",
    "        if module_name not in sys.modules:\n",
    "            print(f\"!!! ERROR: Module '{module_name}' has not been imported yet. !!!\")\n",
    "            print(\"Please ensure this function is called *after* the import line.\")\n",
    "            return\n",
    "\n",
    "        module = sys.modules[module_name]\n",
    "\n",
    "        # 2. Use inspect.getfile to find the module's file path\n",
    "        # This is the most reliable way to find the source file for an imported module.\n",
    "        module_path = inspect.getfile(module)\n",
    "        file_name = os.path.basename(module_path)\n",
    "        \n",
    "        # 3. Check size before printing (safety check)\n",
    "        file_size_bytes = os.path.getsize(module_path)\n",
    "        MAX_SIZE_BYTES = MAX_FILE_SIZE_KB * 1024\n",
    "\n",
    "        if file_size_bytes > MAX_SIZE_BYTES:\n",
    "            print(f\"!!! WARNING: File '{file_name}' is too large ({file_size_bytes / 1024:.1f} KB). Skipping content print. !!!\")\n",
    "            return\n",
    "\n",
    "        # 4. Read and print contents\n",
    "        print(f\"\\n--- START of {module_path} ---\")\n",
    "        with open(module_path, 'r') as f:\n",
    "            print(f.read())\n",
    "        print(f\"--- END of {file_name} ---\")\n",
    "\n",
    "    except Exception as e:\n",
    "        print(f\"!!! FATAL ERROR inspecting module '{module_name}': {e} !!!\")\n",
    "\n",
    "print_module_content('autograder')"
   ]
  },
  {
   "cell_type": "code",
   "execution_count": null,
   "id": "aa2575f6",
   "metadata": {},
   "outputs": [],
   "source": [
    "def testQ1():\n",
    "    mod, validBER, testBER = homework2.Q1(catID, dataTrain, dataValid, dataTest)\n",
    "    return validBER, testBER"
   ]
  },
  {
   "cell_type": "code",
   "execution_count": null,
   "id": "a69d2917",
   "metadata": {},
   "outputs": [],
   "source": [
    "testQ1()"
   ]
  },
  {
   "cell_type": "code",
   "execution_count": null,
   "id": "a927d3e2",
   "metadata": {},
   "outputs": [],
   "source": [
    "def testQ2():\n",
    "    mod, validBER, testBER = homework2.Q2(catID, dataTrain, dataValid, dataTest)\n",
    "    return validBER, testBER"
   ]
  },
  {
   "cell_type": "code",
   "execution_count": null,
   "id": "06988d91",
   "metadata": {},
   "outputs": [],
   "source": [
    "#testQ2()"
   ]
  },
  {
   "cell_type": "code",
   "execution_count": null,
   "id": "c06aaa0d",
   "metadata": {},
   "outputs": [],
   "source": [
    "def testQ3():\n",
    "    mod, validBER, testBER = homework2.Q3(catID, dataTrain, dataValid, dataTest)\n",
    "    return validBER, testBER"
   ]
  },
  {
   "cell_type": "code",
   "execution_count": null,
   "id": "d1eaea88",
   "metadata": {},
   "outputs": [],
   "source": [
    "#testQ3()"
   ]
  },
  {
   "cell_type": "code",
   "execution_count": null,
   "id": "8182c501",
   "metadata": {},
   "outputs": [],
   "source": [
    "def testQ4():\n",
    "    testBER_noCat, testBER_noReview, testBER_noLength = homework2.Q4(1, catID, dataTrain, dataValid, dataTest)\n",
    "    return testBER_noCat, testBER_noReview, testBER_noLength"
   ]
  },
  {
   "cell_type": "code",
   "execution_count": null,
   "id": "70d4e5d7",
   "metadata": {},
   "outputs": [],
   "source": [
    "#testQ4()"
   ]
  },
  {
   "cell_type": "code",
   "execution_count": null,
   "id": "f07e868f",
   "metadata": {},
   "outputs": [],
   "source": []
  },
  {
   "cell_type": "code",
   "execution_count": null,
   "id": "f9a75852",
   "metadata": {},
   "outputs": [],
   "source": [
    "path = root + \"/amazon_reviews_us_Musical_Instruments_v1_00.tsv.gz\"\n",
    "f = gzip.open(path, 'rt', encoding=\"utf8\")\n",
    "\n",
    "header = f.readline()\n",
    "header = header.strip().split('\\t')"
   ]
  },
  {
   "cell_type": "code",
   "execution_count": null,
   "id": "13c9b07f",
   "metadata": {},
   "outputs": [],
   "source": []
  },
  {
   "cell_type": "code",
   "execution_count": null,
   "id": "1183af53",
   "metadata": {},
   "outputs": [],
   "source": [
    "header"
   ]
  },
  {
   "cell_type": "code",
   "execution_count": null,
   "id": "1deab570",
   "metadata": {},
   "outputs": [],
   "source": [
    "review_dataset = []\n",
    "\n",
    "pairsSeen = set()\n",
    "\n",
    "for line in f:\n",
    "    fields = line.strip().split('\\t')\n",
    "    d = dict(zip(header, fields))\n",
    "    ui = (d['customer_id'], d['product_id'])\n",
    "    if ui in pairsSeen:\n",
    "        print(\"Skipping duplicate user/item:\", ui)\n",
    "        continue\n",
    "    pairsSeen.add(ui)\n",
    "    d['star_rating'] = int(d['star_rating'])\n",
    "    d['helpful_votes'] = int(d['helpful_votes'])\n",
    "    d['total_votes'] = int(d['total_votes'])\n",
    "    review_dataset.append(d)"
   ]
  },
  {
   "cell_type": "code",
   "execution_count": null,
   "id": "81c7545f",
   "metadata": {},
   "outputs": [],
   "source": [
    "reviewDataTrain = review_dataset[:int(len(review_dataset)*0.9)]\n",
    "reviewDataTest = review_dataset[int(len(review_dataset)*0.9):]"
   ]
  },
  {
   "cell_type": "code",
   "execution_count": null,
   "id": "5a9a3277",
   "metadata": {},
   "outputs": [],
   "source": [
    "usersPerItem = defaultdict(set) # Maps an item to the users who rated it\n",
    "itemsPerUser = defaultdict(set) # Maps a user to the items that they rated\n",
    "itemNames = {}\n",
    "ratingDict = {} # To retrieve a rating for a specific user/item pair\n",
    "reviewsPerUser = defaultdict(list)\n",
    "\n",
    "for d in reviewDataTrain:\n",
    "    user,item = d['customer_id'], d['product_id']\n",
    "    usersPerItem[item].add(user)\n",
    "    itemsPerUser[user].add(item)\n",
    "    reviewsPerUser[user].append(d)\n",
    "\n",
    "for d in review_dataset:\n",
    "    user,item = d['customer_id'], d['product_id']\n",
    "    ratingDict[(user,item)] = d['star_rating']\n",
    "    itemNames[item] = d['product_title']"
   ]
  },
  {
   "cell_type": "code",
   "execution_count": null,
   "id": "a269be2e",
   "metadata": {},
   "outputs": [],
   "source": []
  },
  {
   "cell_type": "code",
   "execution_count": null,
   "id": "8d84efe7",
   "metadata": {},
   "outputs": [],
   "source": [
    "def testQ5():\n",
    "    # Note: your solution is autograded based on the relevance scores, not the items themselves\n",
    "    return homework2.mostSimilar(\"B00KCHRKD6\", 10, usersPerItem)"
   ]
  },
  {
   "cell_type": "code",
   "execution_count": null,
   "id": "1fafe1cd",
   "metadata": {},
   "outputs": [],
   "source": [
    "#testQ5()"
   ]
  },
  {
   "cell_type": "code",
   "execution_count": null,
   "id": "bb70aa82",
   "metadata": {},
   "outputs": [],
   "source": []
  },
  {
   "cell_type": "code",
   "execution_count": null,
   "id": "19e37f42",
   "metadata": {},
   "outputs": [],
   "source": [
    "ratingMean = homework2.getMeanRating(reviewDataTrain)\n",
    "\n",
    "userAverages = homework2.getUserAverages(itemsPerUser, ratingDict)\n",
    "\n",
    "itemAverages = homework2.getItemAverages(usersPerItem, ratingDict)"
   ]
  },
  {
   "cell_type": "code",
   "execution_count": null,
   "id": "7d8bfe4d",
   "metadata": {},
   "outputs": [],
   "source": []
  },
  {
   "cell_type": "code",
   "execution_count": null,
   "id": "e61647de",
   "metadata": {},
   "outputs": [],
   "source": [
    "def testQ6():\n",
    "    alwaysPredictMean = [ratingMean for d in reviewDataTest]\n",
    "    \n",
    "    simPredictions = [homework2.predictRating(d['customer_id'],\n",
    "                                              d['product_id'],\n",
    "                                              ratingMean,\n",
    "                                              reviewsPerUser,\n",
    "                                              usersPerItem,\n",
    "                                              itemsPerUser,\n",
    "                                              userAverages,\n",
    "                                              itemAverages) for d in reviewDataTest]\n",
    "\n",
    "    labels = [d['star_rating'] for d in reviewDataTest]\n",
    "    \n",
    "    # Autograder checks the MSE of your predictions and (some of) the simPrediction values"
   ]
  },
  {
   "cell_type": "code",
   "execution_count": null,
   "id": "509dd29b",
   "metadata": {},
   "outputs": [],
   "source": [
    "#testQ6()"
   ]
  },
  {
   "cell_type": "code",
   "execution_count": null,
   "id": "dd197950",
   "metadata": {},
   "outputs": [],
   "source": [
    "def testQ7():\n",
    "    alwaysPredictMean = [ratingMean for d in reviewDataTest]\n",
    "    \n",
    "    simPredictions = [homework2.predictRating(d['customer_id'],\n",
    "                                              d['product_id'],\n",
    "                                              ratingMean,\n",
    "                                              reviewsPerUser,\n",
    "                                              usersPerItem,\n",
    "                                              itemsPerUser,\n",
    "                                              userAverages,\n",
    "                                              itemAverages) for d in reviewDataTest]\n",
    "    \n",
    "\n",
    "    q7Predictions = [homework2.predictRatingQ7(d['customer_id'],\n",
    "                                               d['product_id'],\n",
    "                                               ratingMean,\n",
    "                                               reviewsPerUser,\n",
    "                                               usersPerItem,\n",
    "                                               itemsPerUser,\n",
    "                                               userAverages,\n",
    "                                               itemAverages) for d in reviewDataTest]\n",
    "    \n",
    "    labels = [d['star_rating'] for d in reviewDataTest]\n",
    "    \n",
    "    m1 = homework2.MSE(simPredictions, labels)\n",
    "    m2 = homework2.MSE(q7Predictions, labels)\n",
    "    m3 = homework2.MSE(alwaysPredictMean, labels)\n",
    "    \n",
    "    # Autograder checks whether your solution is better than either the Q6 or a naive solution\n",
    "    return 1.0 * ((m2 < m1) and (m2 < m3))"
   ]
  },
  {
   "cell_type": "code",
   "execution_count": null,
   "id": "d0e2a93a",
   "metadata": {},
   "outputs": [],
   "source": []
  }
 ],
 "metadata": {
  "kernelspec": {
   "display_name": "ucsd",
   "language": "python",
   "name": "python3"
  },
  "language_info": {
   "codemirror_mode": {
    "name": "ipython",
    "version": 3
   },
   "file_extension": ".py",
   "mimetype": "text/x-python",
   "name": "python",
   "nbconvert_exporter": "python",
   "pygments_lexer": "ipython3",
   "version": "3.12.3"
  }
 },
 "nbformat": 4,
 "nbformat_minor": 5
}
